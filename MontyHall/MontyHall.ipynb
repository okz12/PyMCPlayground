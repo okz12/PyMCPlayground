{
 "cells": [
  {
   "cell_type": "markdown",
   "metadata": {},
   "source": [
    "## Implementing Monty Hall problem - also known as the Three Door Problem using PyMC. \n",
    "\n",
    "### Monty Hall Problem\n",
    "\n",
    "This is a brief summary of the problem, with enough detail to get by. For more details and the history behind it, see [here](https://en.wikipedia.org/wiki/Monty_Hall_problem).\n",
    "\n",
    "There are 3 doors. There is a car behind (the prize) one door and goats behind the other two. The contestant needs to guess which door has the car to win it. The game is played something like this:\n",
    "\n",
    "1. The contestant selects a door\n",
    "\n",
    "2. The host opens an unselected door to reveal a goat\n",
    "\n",
    "3. The contestant is asked whether they want to stick to their door ro switch to the remaining door\n",
    "\n",
    "Is the optimal strategy to switch or to stick to the originally selected door?"
   ]
  },
  {
   "cell_type": "markdown",
   "metadata": {},
   "source": [
    "### Bayes' Theorem / Analytical\n",
    "\n",
    "#### Prior\n",
    "\n",
    "\n",
    "The prior probability on where the prize lies is 1/3 for each door.\n",
    "\n",
    "P(Car = 1) = P(Car = 2) = P(Car = 3) = $\\frac{1}{3}$\n",
    "\n",
    "The host will not open the door that has been selected by the participant or the door with the car. \n",
    "\n",
    "#### Likelihood\n",
    "\n",
    "Let's suppose we have selected door 1.\n",
    "\n",
    "If the car is in the same door that was selected by the participant, the host will open either of the other two doors. Otherwise, the host is restricted to opening the only remaining losing door.\n",
    "\n",
    "$P(Goat = 2 | Car = 1) = \\frac{1}{2}, P(Goat = 3 | Car = 1) = \\frac{1}{2}$\n",
    "\n",
    "$P(Goat = 2 | Car = 2) = 0, P(Goat = 3 | Car = 2) = 1$\n",
    "\n",
    "$P(Goat = 2 | Car = 3) = 1, P(Goat = 3 | Car = 3) = 0$\n",
    "\n",
    "\n",
    "\n",
    "#### Bayes' Rule\n",
    "\n",
    "Let's suppose the host shows us the goat behind door 2. Applying the Bayes' rule we can find out if switching to door 3 gives us a greater chance of winning the car than sticking to door 1.\n",
    "\n",
    "$P(A|B) = \\frac{P(B|A)P(B)}{P(A)}$\n",
    "\n",
    "$P(Car = 1 | Goat = 2) = \\frac{P(Goat = 2 | Car = 1)}{P(Goat = 2 | Car = 1) + P(Goat = 2 | Car = 3)} = \\frac{\\frac{1}{2}}{\\frac{1}{2} + 1} = \\frac{1}{3}$\n",
    "\n",
    "$P(Car = 3 | Goat = 2) = \\frac{P(Goat = 2 | Car = 3)}{P(Goat = 2 | Car = 1) + P(Goat = 2 | Car = 3)} = \\frac{\\frac{1}{2}}{\\frac{1}{2} + 1} = \\frac{2}{3}$\n",
    "\n",
    "Switching to door 3 makes us twice as likely to win the car\n",
    "\n",
    "(NB: summing for normalisation, prior term cancels out)"
   ]
  },
  {
   "cell_type": "markdown",
   "metadata": {
    "ExecuteTime": {
     "end_time": "2020-12-30T07:45:23.583202Z",
     "start_time": "2020-12-30T07:45:23.570418Z"
    }
   },
   "source": [
    "### Python standard libraries"
   ]
  },
  {
   "cell_type": "markdown",
   "metadata": {},
   "source": [
    "Simulating the experiment using Python's built-in libraries is quite straightforward. We use the random module to select between doors with uniform probability and see the effect of switching"
   ]
  },
  {
   "cell_type": "code",
   "execution_count": 24,
   "metadata": {
    "ExecuteTime": {
     "end_time": "2020-12-31T04:49:59.448307Z",
     "start_time": "2020-12-31T04:49:59.391711Z"
    }
   },
   "outputs": [
    {
     "name": "stdout",
     "output_type": "stream",
     "text": [
      "Chances of winning by switching:\t0.67\n",
      "Chances of winning without switching:\t0.34\n"
     ]
    }
   ],
   "source": [
    "import random\n",
    "random.seed(0)\n",
    "# random.choice selects a random element from a sequence with equal probability\n",
    "# i.e. a List of N elements will return each element with 1/N probability\n",
    "\n",
    "# A single game\n",
    "def monty_hall(switch: bool, n_doors: int = 3) -> bool:\n",
    "    # Start with 3 valid doors\n",
    "    doors = list(range(n_doors)) # [0, 1, 2]\n",
    "    \n",
    "    # Pick car door and contestants selection randomly\n",
    "    car_door = random.choice(doors)\n",
    "    selected_door = random.choice(doors)\n",
    "    \n",
    "    # Host opens a door that the contestant hasn't selected and also isn't a winning door\n",
    "    goat_door = random.choice([x for x in doors if x not in {car_door, selected_door}])\n",
    "    doors.remove(goat_door)\n",
    "\n",
    "    # If contestant switches to the remaining door\n",
    "    if switch:\n",
    "        doors.remove(selected_door)\n",
    "        selected_door = doors.pop()\n",
    "\n",
    "    return car_door == selected_door\n",
    "\n",
    "iterations = 10_000\n",
    "print(f\"Chances of winning by switching:\\t{sum([monty_hall(True, 3) for _ in range(iterations)])/iterations:.02f}\")\n",
    "print(f\"Chances of winning without switching:\\t{sum([monty_hall(False, 3) for _ in range(iterations)])/iterations:.02f}\")"
   ]
  },
  {
   "cell_type": "markdown",
   "metadata": {},
   "source": [
    "### PyMC"
   ]
  },
  {
   "cell_type": "markdown",
   "metadata": {},
   "source": [
    "The same model can be specified using PyMC. PyMC is more extensible and can model more complex priors and selection distributions if needed, but this is a vanilla translation of the above simulation."
   ]
  },
  {
   "cell_type": "code",
   "execution_count": 19,
   "metadata": {
    "ExecuteTime": {
     "end_time": "2020-12-31T04:48:48.161568Z",
     "start_time": "2020-12-31T04:48:20.157668Z"
    }
   },
   "outputs": [
    {
     "name": "stderr",
     "output_type": "stream",
     "text": [
      "Multiprocess sampling (4 chains in 4 jobs)\n",
      "CompoundStep\n",
      ">Metropolis: [switch]\n",
      ">Metropolis: [goat]\n",
      ">Metropolis: [selected]\n",
      ">Metropolis: [car]\n"
     ]
    },
    {
     "data": {
      "text/html": [
       "\n",
       "    <div>\n",
       "        <style>\n",
       "            /* Turns off some styling */\n",
       "            progress {\n",
       "                /* gets rid of default border in Firefox and Opera. */\n",
       "                border: none;\n",
       "                /* Needs to be in here for Safari polyfill so background images work as expected. */\n",
       "                background-size: auto;\n",
       "            }\n",
       "            .progress-bar-interrupted, .progress-bar-interrupted::-webkit-progress-bar {\n",
       "                background: #F44336;\n",
       "            }\n",
       "        </style>\n",
       "      <progress value='48000' class='' max='48000' style='width:300px; height:20px; vertical-align: middle;'></progress>\n",
       "      100.00% [48000/48000 00:11<00:00 Sampling 4 chains, 0 divergences]\n",
       "    </div>\n",
       "    "
      ],
      "text/plain": [
       "<IPython.core.display.HTML object>"
      ]
     },
     "metadata": {},
     "output_type": "display_data"
    },
    {
     "name": "stderr",
     "output_type": "stream",
     "text": [
      "Sampling 4 chains for 1_000 tune and 11_000 draw iterations (4_000 + 44_000 draws total) took 27 seconds.\n",
      "The number of effective samples is smaller than 25% for some parameters.\n"
     ]
    },
    {
     "name": "stdout",
     "output_type": "stream",
     "text": [
      "Chances of winning by switching:\t0.67\n",
      "Chances of winning without switching:\t0.33\n"
     ]
    }
   ],
   "source": [
    "import pymc3 as pm\n",
    "from theano import tensor as tt\n",
    "\n",
    "iterations = 10_000\n",
    "n_doors = 3\n",
    "with pm.Model() as model:\n",
    "    # Car behind one of 3 doors with equal probability\n",
    "    car = pm.DiscreteUniform(name=\"car\", lower=0, upper=n_doors-1)\n",
    "    \n",
    "    # Contestant selected one of 3 doors with equal probability\n",
    "    selected = pm.DiscreteUniform(name=\"selected\", lower=0, upper=n_doors-1)\n",
    "    \n",
    "    # Host opens another door to show a goat\n",
    "    # each switch condition corresponds to: 0 if door in (selected, car) else 1\n",
    "    goat = pm.Categorical(name=\"goat\", p=tt.stack([\n",
    "        pm.math.switch(pm.math.or_(pm.math.eq(car, i), pm.math.eq(selected, i)), 0, 1) \n",
    "        for i in range(n_doors)]))\n",
    "    \n",
    "    # Host opens another door to show a goat\n",
    "    # each switch condition corresponds to: 0 if door in (selected, car) else 1\n",
    "    switch = pm.Categorical(name=\"switch\", p=tt.stack([\n",
    "        pm.math.switch(pm.math.or_(pm.math.eq(goat, i), pm.math.eq(selected, i)), 0, 1) \n",
    "        for i in range(n_doors)]))\n",
    "    \n",
    "    step = pm.Metropolis()\n",
    "    trace = pm.sample(iterations + 1000, tune=1000, step=step, return_inferencedata=False)\n",
    "    burned_trace = trace[1000:]\n",
    "    \n",
    "trace_len = len(burned_trace['car'])\n",
    "print(f\"Chances of winning by switching:\\t{sum(burned_trace['switch'] == burned_trace['car'])/trace_len:.02f}\")\n",
    "print(f\"Chances of winning without switching:\\t{sum(burned_trace['selected'] == burned_trace['car'])/trace_len:.02f}\")"
   ]
  },
  {
   "cell_type": "markdown",
   "metadata": {},
   "source": [
    "Graphing out the model also gives a subtle insight into why switching works. Information about the prize is relayed by the host opening the door. The host can only open doors that do not have a car behind it. If we select the correct door on the first try with 1/3 probability, we would end up losing by switching. If we select either of the incorrect doors in the beginning, with a combined 2/3 probability, we would win by switching"
   ]
  },
  {
   "cell_type": "code",
   "execution_count": 20,
   "metadata": {
    "ExecuteTime": {
     "end_time": "2020-12-31T04:48:48.596940Z",
     "start_time": "2020-12-31T04:48:48.163892Z"
    }
   },
   "outputs": [
    {
     "data": {
      "image/svg+xml": [
       "<?xml version=\"1.0\" encoding=\"UTF-8\" standalone=\"no\"?>\n",
       "<!DOCTYPE svg PUBLIC \"-//W3C//DTD SVG 1.1//EN\"\n",
       " \"http://www.w3.org/Graphics/SVG/1.1/DTD/svg11.dtd\">\n",
       "<!-- Generated by graphviz version 2.44.1 (20200629.0846)\n",
       " -->\n",
       "<!-- Pages: 1 -->\n",
       "<svg width=\"334pt\" height=\"305pt\"\n",
       " viewBox=\"0.00 0.00 334.15 304.86\" xmlns=\"http://www.w3.org/2000/svg\" xmlns:xlink=\"http://www.w3.org/1999/xlink\">\n",
       "<g id=\"graph0\" class=\"graph\" transform=\"scale(1 1) rotate(0) translate(4 300.86)\">\n",
       "<polygon fill=\"white\" stroke=\"transparent\" points=\"-4,4 -4,-300.86 330.15,-300.86 330.15,4 -4,4\"/>\n",
       "<!-- selected -->\n",
       "<g id=\"node1\" class=\"node\">\n",
       "<title>selected</title>\n",
       "<ellipse fill=\"none\" stroke=\"black\" cx=\"249.07\" cy=\"-259.38\" rx=\"77.15\" ry=\"37.45\"/>\n",
       "<text text-anchor=\"middle\" x=\"249.07\" y=\"-270.68\" font-family=\"Times,serif\" font-size=\"14.00\">selected</text>\n",
       "<text text-anchor=\"middle\" x=\"249.07\" y=\"-255.68\" font-family=\"Times,serif\" font-size=\"14.00\">~</text>\n",
       "<text text-anchor=\"middle\" x=\"249.07\" y=\"-240.68\" font-family=\"Times,serif\" font-size=\"14.00\">DiscreteUniform</text>\n",
       "</g>\n",
       "<!-- goat -->\n",
       "<g id=\"node2\" class=\"node\">\n",
       "<title>goat</title>\n",
       "<ellipse fill=\"none\" stroke=\"black\" cx=\"165.07\" cy=\"-148.43\" rx=\"55.72\" ry=\"37.45\"/>\n",
       "<text text-anchor=\"middle\" x=\"165.07\" y=\"-159.73\" font-family=\"Times,serif\" font-size=\"14.00\">goat</text>\n",
       "<text text-anchor=\"middle\" x=\"165.07\" y=\"-144.73\" font-family=\"Times,serif\" font-size=\"14.00\">~</text>\n",
       "<text text-anchor=\"middle\" x=\"165.07\" y=\"-129.73\" font-family=\"Times,serif\" font-size=\"14.00\">Categorical</text>\n",
       "</g>\n",
       "<!-- selected&#45;&gt;goat -->\n",
       "<g id=\"edge1\" class=\"edge\">\n",
       "<title>selected&#45;&gt;goat</title>\n",
       "<path fill=\"none\" stroke=\"black\" d=\"M222.5,-223.91C214.22,-213.17 205.01,-201.23 196.44,-190.12\"/>\n",
       "<polygon fill=\"black\" stroke=\"black\" points=\"199.21,-187.98 190.33,-182.19 193.67,-192.25 199.21,-187.98\"/>\n",
       "</g>\n",
       "<!-- switch -->\n",
       "<g id=\"node4\" class=\"node\">\n",
       "<title>switch</title>\n",
       "<ellipse fill=\"none\" stroke=\"black\" cx=\"207.07\" cy=\"-37.48\" rx=\"55.72\" ry=\"37.45\"/>\n",
       "<text text-anchor=\"middle\" x=\"207.07\" y=\"-48.78\" font-family=\"Times,serif\" font-size=\"14.00\">switch</text>\n",
       "<text text-anchor=\"middle\" x=\"207.07\" y=\"-33.78\" font-family=\"Times,serif\" font-size=\"14.00\">~</text>\n",
       "<text text-anchor=\"middle\" x=\"207.07\" y=\"-18.78\" font-family=\"Times,serif\" font-size=\"14.00\">Categorical</text>\n",
       "</g>\n",
       "<!-- selected&#45;&gt;switch -->\n",
       "<g id=\"edge3\" class=\"edge\">\n",
       "<title>selected&#45;&gt;switch</title>\n",
       "<path fill=\"none\" stroke=\"black\" d=\"M246.19,-221.72C243.39,-191.69 238.33,-148.25 230.07,-110.95 228.13,-102.15 225.58,-92.89 222.9,-84.03\"/>\n",
       "<polygon fill=\"black\" stroke=\"black\" points=\"226.16,-82.75 219.83,-74.26 219.48,-84.85 226.16,-82.75\"/>\n",
       "</g>\n",
       "<!-- goat&#45;&gt;switch -->\n",
       "<g id=\"edge4\" class=\"edge\">\n",
       "<title>goat&#45;&gt;switch</title>\n",
       "<path fill=\"none\" stroke=\"black\" d=\"M178.71,-112.06C182.23,-102.92 186.07,-92.97 189.75,-83.42\"/>\n",
       "<polygon fill=\"black\" stroke=\"black\" points=\"193.03,-84.64 193.36,-74.05 186.5,-82.12 193.03,-84.64\"/>\n",
       "</g>\n",
       "<!-- car -->\n",
       "<g id=\"node3\" class=\"node\">\n",
       "<title>car</title>\n",
       "<ellipse fill=\"none\" stroke=\"black\" cx=\"77.07\" cy=\"-259.38\" rx=\"77.15\" ry=\"37.45\"/>\n",
       "<text text-anchor=\"middle\" x=\"77.07\" y=\"-270.68\" font-family=\"Times,serif\" font-size=\"14.00\">car</text>\n",
       "<text text-anchor=\"middle\" x=\"77.07\" y=\"-255.68\" font-family=\"Times,serif\" font-size=\"14.00\">~</text>\n",
       "<text text-anchor=\"middle\" x=\"77.07\" y=\"-240.68\" font-family=\"Times,serif\" font-size=\"14.00\">DiscreteUniform</text>\n",
       "</g>\n",
       "<!-- car&#45;&gt;goat -->\n",
       "<g id=\"edge2\" class=\"edge\">\n",
       "<title>car&#45;&gt;goat</title>\n",
       "<path fill=\"none\" stroke=\"black\" d=\"M104.68,-224.21C113.52,-213.26 123.39,-201.04 132.55,-189.7\"/>\n",
       "<polygon fill=\"black\" stroke=\"black\" points=\"135.51,-191.6 139.07,-181.63 130.06,-187.21 135.51,-191.6\"/>\n",
       "</g>\n",
       "</g>\n",
       "</svg>\n"
      ],
      "text/plain": [
       "<graphviz.dot.Digraph at 0x7f8d4d3f2670>"
      ]
     },
     "execution_count": 20,
     "metadata": {},
     "output_type": "execute_result"
    }
   ],
   "source": [
    "pm.model_graph.model_to_graphviz(model)"
   ]
  },
  {
   "cell_type": "markdown",
   "metadata": {},
   "source": [
    "### Bonus: Simulating for more than 3 doors"
   ]
  },
  {
   "cell_type": "code",
   "execution_count": 28,
   "metadata": {
    "ExecuteTime": {
     "end_time": "2020-12-31T04:52:30.266707Z",
     "start_time": "2020-12-31T04:51:27.735532Z"
    }
   },
   "outputs": [],
   "source": [
    "from typing import List, NamedTuple, Iterable\n",
    "\n",
    "class result(NamedTuple):\n",
    "    n_doors: int\n",
    "    iterations: int\n",
    "    switch: int\n",
    "    stay: int\n",
    "\n",
    "def monty_hall_extended(num_doors: Iterable[int], iterations: int) -> List[result]:\n",
    "    retval = []\n",
    "    for n_doors in num_doors:\n",
    "        stay = sum(monty_hall(False, n_doors) for _ in range(iterations))\n",
    "        switch = sum(monty_hall(True, n_doors) for _ in range(iterations))\n",
    "        retval.append(result(n_doors, iterations, switch, stay))\n",
    "    return retval\n",
    "\n",
    "results = monty_hall_extended([3, 4, 5, 10, 25, 50, 100], 1_000_000)"
   ]
  },
  {
   "cell_type": "code",
   "execution_count": 29,
   "metadata": {
    "ExecuteTime": {
     "end_time": "2020-12-31T04:52:35.259870Z",
     "start_time": "2020-12-31T04:52:35.256565Z"
    }
   },
   "outputs": [
    {
     "data": {
      "text/plain": [
       "[result(n_doors=3, iterations=1000000, switch=667009, stay=332875),\n",
       " result(n_doors=4, iterations=1000000, switch=375078, stay=249806),\n",
       " result(n_doors=5, iterations=1000000, switch=266534, stay=200397),\n",
       " result(n_doors=10, iterations=1000000, switch=112284, stay=99502),\n",
       " result(n_doors=25, iterations=1000000, switch=41442, stay=39868),\n",
       " result(n_doors=50, iterations=1000000, switch=20315, stay=20036),\n",
       " result(n_doors=100, iterations=1000000, switch=10207, stay=10134)]"
      ]
     },
     "execution_count": 29,
     "metadata": {},
     "output_type": "execute_result"
    }
   ],
   "source": [
    "results"
   ]
  },
  {
   "cell_type": "code",
   "execution_count": 31,
   "metadata": {
    "ExecuteTime": {
     "end_time": "2020-12-31T04:54:56.381071Z",
     "start_time": "2020-12-31T04:54:56.155682Z"
    }
   },
   "outputs": [
    {
     "ename": "RuntimeError",
     "evalue": "matplotlib does not support generators as input",
     "output_type": "error",
     "traceback": [
      "\u001b[0;31m------------------------------------------------------------------------\u001b[0m",
      "\u001b[0;31mRuntimeError\u001b[0m                           Traceback (most recent call last)",
      "\u001b[0;32m<ipython-input-31-bdceaefa12aa>\u001b[0m in \u001b[0;36m<module>\u001b[0;34m\u001b[0m\n\u001b[1;32m      5\u001b[0m     \u001b[0max\u001b[0m\u001b[0;34m.\u001b[0m\u001b[0mbar\u001b[0m\u001b[0;34m(\u001b[0m\u001b[0mi\u001b[0m \u001b[0;34m-\u001b[0m \u001b[0;36m0.125\u001b[0m\u001b[0;34m,\u001b[0m \u001b[0mresult\u001b[0m\u001b[0;34m.\u001b[0m\u001b[0mswitch\u001b[0m \u001b[0;34m/\u001b[0m \u001b[0mresult\u001b[0m\u001b[0;34m.\u001b[0m\u001b[0miterations\u001b[0m\u001b[0;34m,\u001b[0m \u001b[0mwidth\u001b[0m \u001b[0;34m=\u001b[0m \u001b[0;36m0.25\u001b[0m\u001b[0;34m)\u001b[0m\u001b[0;34m\u001b[0m\u001b[0;34m\u001b[0m\u001b[0m\n\u001b[1;32m      6\u001b[0m     \u001b[0max\u001b[0m\u001b[0;34m.\u001b[0m\u001b[0mbar\u001b[0m\u001b[0;34m(\u001b[0m\u001b[0mi\u001b[0m \u001b[0;34m+\u001b[0m \u001b[0;36m0.125\u001b[0m\u001b[0;34m,\u001b[0m \u001b[0mresult\u001b[0m\u001b[0;34m.\u001b[0m\u001b[0mstay\u001b[0m \u001b[0;34m/\u001b[0m \u001b[0mresult\u001b[0m\u001b[0;34m.\u001b[0m\u001b[0miterations\u001b[0m\u001b[0;34m,\u001b[0m \u001b[0mwidth\u001b[0m \u001b[0;34m=\u001b[0m \u001b[0;36m0.25\u001b[0m\u001b[0;34m)\u001b[0m\u001b[0;34m\u001b[0m\u001b[0;34m\u001b[0m\u001b[0m\n\u001b[0;32m----> 7\u001b[0;31m \u001b[0max\u001b[0m\u001b[0;34m.\u001b[0m\u001b[0mset_xticks\u001b[0m\u001b[0;34m(\u001b[0m\u001b[0;34m[\u001b[0m\u001b[0mr\u001b[0m\u001b[0;34m.\u001b[0m\u001b[0mn_doors\u001b[0m\u001b[0;34m]\u001b[0m \u001b[0;32mfor\u001b[0m \u001b[0mr\u001b[0m \u001b[0;32min\u001b[0m \u001b[0mresults\u001b[0m\u001b[0;34m)\u001b[0m\u001b[0;34m\u001b[0m\u001b[0;34m\u001b[0m\u001b[0m\n\u001b[0m",
      "\u001b[0;32m~/anaconda3/envs/work/lib/python3.8/site-packages/matplotlib/axes/_base.py\u001b[0m in \u001b[0;36mwrapper\u001b[0;34m(self, *args, **kwargs)\u001b[0m\n\u001b[1;32m     61\u001b[0m \u001b[0;34m\u001b[0m\u001b[0m\n\u001b[1;32m     62\u001b[0m         \u001b[0;32mdef\u001b[0m \u001b[0mwrapper\u001b[0m\u001b[0;34m(\u001b[0m\u001b[0mself\u001b[0m\u001b[0;34m,\u001b[0m \u001b[0;34m*\u001b[0m\u001b[0margs\u001b[0m\u001b[0;34m,\u001b[0m \u001b[0;34m**\u001b[0m\u001b[0mkwargs\u001b[0m\u001b[0;34m)\u001b[0m\u001b[0;34m:\u001b[0m\u001b[0;34m\u001b[0m\u001b[0;34m\u001b[0m\u001b[0m\n\u001b[0;32m---> 63\u001b[0;31m             \u001b[0;32mreturn\u001b[0m \u001b[0mget_method\u001b[0m\u001b[0;34m(\u001b[0m\u001b[0mself\u001b[0m\u001b[0;34m)\u001b[0m\u001b[0;34m(\u001b[0m\u001b[0;34m*\u001b[0m\u001b[0margs\u001b[0m\u001b[0;34m,\u001b[0m \u001b[0;34m**\u001b[0m\u001b[0mkwargs\u001b[0m\u001b[0;34m)\u001b[0m\u001b[0;34m\u001b[0m\u001b[0;34m\u001b[0m\u001b[0m\n\u001b[0m\u001b[1;32m     64\u001b[0m \u001b[0;34m\u001b[0m\u001b[0m\n\u001b[1;32m     65\u001b[0m         \u001b[0mwrapper\u001b[0m\u001b[0;34m.\u001b[0m\u001b[0m__module__\u001b[0m \u001b[0;34m=\u001b[0m \u001b[0mowner\u001b[0m\u001b[0;34m.\u001b[0m\u001b[0m__module__\u001b[0m\u001b[0;34m\u001b[0m\u001b[0;34m\u001b[0m\u001b[0m\n",
      "\u001b[0;32m~/anaconda3/envs/work/lib/python3.8/site-packages/matplotlib/cbook/deprecation.py\u001b[0m in \u001b[0;36mwrapper\u001b[0;34m(*args, **kwargs)\u001b[0m\n\u001b[1;32m    449\u001b[0m                 \u001b[0;34m\"parameter will become keyword-only %(removal)s.\"\u001b[0m\u001b[0;34m,\u001b[0m\u001b[0;34m\u001b[0m\u001b[0;34m\u001b[0m\u001b[0m\n\u001b[1;32m    450\u001b[0m                 name=name, obj_type=f\"parameter of {func.__name__}()\")\n\u001b[0;32m--> 451\u001b[0;31m         \u001b[0;32mreturn\u001b[0m \u001b[0mfunc\u001b[0m\u001b[0;34m(\u001b[0m\u001b[0;34m*\u001b[0m\u001b[0margs\u001b[0m\u001b[0;34m,\u001b[0m \u001b[0;34m**\u001b[0m\u001b[0mkwargs\u001b[0m\u001b[0;34m)\u001b[0m\u001b[0;34m\u001b[0m\u001b[0;34m\u001b[0m\u001b[0m\n\u001b[0m\u001b[1;32m    452\u001b[0m \u001b[0;34m\u001b[0m\u001b[0m\n\u001b[1;32m    453\u001b[0m     \u001b[0;32mreturn\u001b[0m \u001b[0mwrapper\u001b[0m\u001b[0;34m\u001b[0m\u001b[0;34m\u001b[0m\u001b[0m\n",
      "\u001b[0;32m~/anaconda3/envs/work/lib/python3.8/site-packages/matplotlib/axis.py\u001b[0m in \u001b[0;36mset_ticks\u001b[0;34m(self, ticks, minor)\u001b[0m\n\u001b[1;32m   1809\u001b[0m         \"\"\"\n\u001b[1;32m   1810\u001b[0m         \u001b[0;31m# XXX if the user changes units, the information will be lost here\u001b[0m\u001b[0;34m\u001b[0m\u001b[0;34m\u001b[0m\u001b[0;34m\u001b[0m\u001b[0m\n\u001b[0;32m-> 1811\u001b[0;31m         \u001b[0mticks\u001b[0m \u001b[0;34m=\u001b[0m \u001b[0mself\u001b[0m\u001b[0;34m.\u001b[0m\u001b[0mconvert_units\u001b[0m\u001b[0;34m(\u001b[0m\u001b[0mticks\u001b[0m\u001b[0;34m)\u001b[0m\u001b[0;34m\u001b[0m\u001b[0;34m\u001b[0m\u001b[0m\n\u001b[0m\u001b[1;32m   1812\u001b[0m         \u001b[0;32mif\u001b[0m \u001b[0mlen\u001b[0m\u001b[0;34m(\u001b[0m\u001b[0mticks\u001b[0m\u001b[0;34m)\u001b[0m \u001b[0;34m>\u001b[0m \u001b[0;36m1\u001b[0m\u001b[0;34m:\u001b[0m\u001b[0;34m\u001b[0m\u001b[0;34m\u001b[0m\u001b[0m\n\u001b[1;32m   1813\u001b[0m             \u001b[0mxleft\u001b[0m\u001b[0;34m,\u001b[0m \u001b[0mxright\u001b[0m \u001b[0;34m=\u001b[0m \u001b[0mself\u001b[0m\u001b[0;34m.\u001b[0m\u001b[0mget_view_interval\u001b[0m\u001b[0;34m(\u001b[0m\u001b[0;34m)\u001b[0m\u001b[0;34m\u001b[0m\u001b[0;34m\u001b[0m\u001b[0m\n",
      "\u001b[0;32m~/anaconda3/envs/work/lib/python3.8/site-packages/matplotlib/axis.py\u001b[0m in \u001b[0;36mconvert_units\u001b[0;34m(self, x)\u001b[0m\n\u001b[1;32m   1516\u001b[0m \u001b[0;34m\u001b[0m\u001b[0m\n\u001b[1;32m   1517\u001b[0m         \u001b[0;32mif\u001b[0m \u001b[0mself\u001b[0m\u001b[0;34m.\u001b[0m\u001b[0mconverter\u001b[0m \u001b[0;32mis\u001b[0m \u001b[0;32mNone\u001b[0m\u001b[0;34m:\u001b[0m\u001b[0;34m\u001b[0m\u001b[0;34m\u001b[0m\u001b[0m\n\u001b[0;32m-> 1518\u001b[0;31m             \u001b[0mself\u001b[0m\u001b[0;34m.\u001b[0m\u001b[0mconverter\u001b[0m \u001b[0;34m=\u001b[0m \u001b[0mmunits\u001b[0m\u001b[0;34m.\u001b[0m\u001b[0mregistry\u001b[0m\u001b[0;34m.\u001b[0m\u001b[0mget_converter\u001b[0m\u001b[0;34m(\u001b[0m\u001b[0mx\u001b[0m\u001b[0;34m)\u001b[0m\u001b[0;34m\u001b[0m\u001b[0;34m\u001b[0m\u001b[0m\n\u001b[0m\u001b[1;32m   1519\u001b[0m \u001b[0;34m\u001b[0m\u001b[0m\n\u001b[1;32m   1520\u001b[0m         \u001b[0;32mif\u001b[0m \u001b[0mself\u001b[0m\u001b[0;34m.\u001b[0m\u001b[0mconverter\u001b[0m \u001b[0;32mis\u001b[0m \u001b[0;32mNone\u001b[0m\u001b[0;34m:\u001b[0m\u001b[0;34m\u001b[0m\u001b[0;34m\u001b[0m\u001b[0m\n",
      "\u001b[0;32m~/anaconda3/envs/work/lib/python3.8/site-packages/matplotlib/units.py\u001b[0m in \u001b[0;36mget_converter\u001b[0;34m(self, x)\u001b[0m\n\u001b[1;32m    208\u001b[0m                 \u001b[0;32mpass\u001b[0m\u001b[0;34m\u001b[0m\u001b[0;34m\u001b[0m\u001b[0m\n\u001b[1;32m    209\u001b[0m         \u001b[0;32mtry\u001b[0m\u001b[0;34m:\u001b[0m  \u001b[0;31m# If cache lookup fails, look up based on first element...\u001b[0m\u001b[0;34m\u001b[0m\u001b[0;34m\u001b[0m\u001b[0m\n\u001b[0;32m--> 210\u001b[0;31m             \u001b[0mfirst\u001b[0m \u001b[0;34m=\u001b[0m \u001b[0mcbook\u001b[0m\u001b[0;34m.\u001b[0m\u001b[0msafe_first_element\u001b[0m\u001b[0;34m(\u001b[0m\u001b[0mx\u001b[0m\u001b[0;34m)\u001b[0m\u001b[0;34m\u001b[0m\u001b[0;34m\u001b[0m\u001b[0m\n\u001b[0m\u001b[1;32m    211\u001b[0m         \u001b[0;32mexcept\u001b[0m \u001b[0;34m(\u001b[0m\u001b[0mTypeError\u001b[0m\u001b[0;34m,\u001b[0m \u001b[0mStopIteration\u001b[0m\u001b[0;34m)\u001b[0m\u001b[0;34m:\u001b[0m\u001b[0;34m\u001b[0m\u001b[0;34m\u001b[0m\u001b[0m\n\u001b[1;32m    212\u001b[0m             \u001b[0;32mpass\u001b[0m\u001b[0;34m\u001b[0m\u001b[0;34m\u001b[0m\u001b[0m\n",
      "\u001b[0;32m~/anaconda3/envs/work/lib/python3.8/site-packages/matplotlib/cbook/__init__.py\u001b[0m in \u001b[0;36msafe_first_element\u001b[0;34m(obj)\u001b[0m\n\u001b[1;32m   1667\u001b[0m         \u001b[0;32mexcept\u001b[0m \u001b[0mTypeError\u001b[0m\u001b[0;34m:\u001b[0m\u001b[0;34m\u001b[0m\u001b[0;34m\u001b[0m\u001b[0m\n\u001b[1;32m   1668\u001b[0m             \u001b[0;32mpass\u001b[0m\u001b[0;34m\u001b[0m\u001b[0;34m\u001b[0m\u001b[0m\n\u001b[0;32m-> 1669\u001b[0;31m         raise RuntimeError(\"matplotlib does not support generators \"\n\u001b[0m\u001b[1;32m   1670\u001b[0m                            \"as input\")\n\u001b[1;32m   1671\u001b[0m     \u001b[0;32mreturn\u001b[0m \u001b[0mnext\u001b[0m\u001b[0;34m(\u001b[0m\u001b[0miter\u001b[0m\u001b[0;34m(\u001b[0m\u001b[0mobj\u001b[0m\u001b[0;34m)\u001b[0m\u001b[0;34m)\u001b[0m\u001b[0;34m\u001b[0m\u001b[0;34m\u001b[0m\u001b[0m\n",
      "\u001b[0;31mRuntimeError\u001b[0m: matplotlib does not support generators as input"
     ]
    },
    {
     "data": {
      "image/png": "[encoded data removed]",
      "text/plain": [
       "<Figure size 432x288 with 1 Axes>"
      ]
     },
     "metadata": {
      "needs_background": "light"
     },
     "output_type": "display_data"
    }
   ],
   "source": [
    "import matplotlib.pyplot as plt\n",
    "fig = plt.figure()\n",
    "ax = fig.add_axes([0,0,1,1])\n",
    "for i, result in enumerate(results):\n",
    "    ax.bar(i - 0.125, result.switch / result.iterations, width = 0.25)\n",
    "    ax.bar(i + 0.125, result.stay / result.iterations, width = 0.25)\n",
    "ax.set_xticks([r.n_doors] for r in results)"
   ]
  }
 ],
 "metadata": {
  "kernelspec": {
   "display_name": "Python 3.8.2 64-bit",
   "language": "python",
   "name": "python38264bita9f0f2c20ea645e0b4e03f7212bd6259"
  },
  "language_info": {
   "codemirror_mode": {
    "name": "ipython",
    "version": 3
   },
   "file_extension": ".py",
   "mimetype": "text/x-python",
   "name": "python",
   "nbconvert_exporter": "python",
   "pygments_lexer": "ipython3",
   "version": "3.8.2"
  },
  "toc": {
   "base_numbering": 1,
   "nav_menu": {},
   "number_sections": true,
   "sideBar": true,
   "skip_h1_title": false,
   "title_cell": "Table of Contents",
   "title_sidebar": "Contents",
   "toc_cell": false,
   "toc_position": {},
   "toc_section_display": true,
   "toc_window_display": false
  }
 },
 "nbformat": 4,
 "nbformat_minor": 4
}
