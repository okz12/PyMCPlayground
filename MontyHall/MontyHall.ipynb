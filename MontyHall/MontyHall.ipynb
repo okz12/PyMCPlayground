{
 "cells": [
  {
   "cell_type": "markdown",
   "metadata": {},
   "source": [
    "## Implementing Monty Hall problem (a.k.a The Three Door Problem) using PyMC\n",
    "\n",
    "### Monty Hall Problem\n",
    "\n",
    "This is a brief summary of the problem, with enough detail to get by. For more details and the history behind it, see [here](https://en.wikipedia.org/wiki/Monty_Hall_problem).\n",
    "\n",
    "There are 3 doors. There is a car (the prize) behind one door and goats behind the other two. The contestant needs to guess which door has the car to win it. The game is played something like this:\n",
    "\n",
    "1. The contestant selects a door\n",
    "\n",
    "2. The host opens an unselected door to reveal a goat\n",
    "\n",
    "3. The contestant is asked whether they want to stick to their original door or switch to the remaining door\n",
    "\n",
    "Is the optimal strategy to switch or to stick to the originally selected door?"
   ]
  },
  {
   "cell_type": "markdown",
   "metadata": {},
   "source": [
    "### 1. Bayes' Theorem / Analytical\n",
    "\n",
    "#### Prior\n",
    "\n",
    "\n",
    "The prior probability on where the prize lies is 1/3 for each door.\n",
    "\n",
    "P(Car = 1) = P(Car = 2) = P(Car = 3) = $\\frac{1}{3}$\n",
    "\n",
    "The host will not open the door that has been selected by the participant or the door with the car. \n",
    "\n",
    "#### Likelihood\n",
    "\n",
    "Let's suppose we have selected door 1.\n",
    "\n",
    "If the car is in the same door that was selected by the participant, the host will open either of the other two doors. Otherwise, the host is restricted to opening the only remaining losing door.\n",
    "\n",
    "$P(Goat = 2 | Car = 1) = \\frac{1}{2}, P(Goat = 3 | Car = 1) = \\frac{1}{2}$\n",
    "\n",
    "$P(Goat = 2 | Car = 2) = 0, P(Goat = 3 | Car = 2) = 1$\n",
    "\n",
    "$P(Goat = 2 | Car = 3) = 1, P(Goat = 3 | Car = 3) = 0$\n",
    "\n",
    "\n",
    "\n",
    "#### Bayes' Rule\n",
    "\n",
    "Let's suppose the host shows us the goat behind door 2. Applying the Bayes' rule we can find out if switching to door 3 gives us a greater chance of winning the car than sticking to door 1.\n",
    "\n",
    "$P(A|B) = \\frac{P(B|A)P(B)}{P(A)}$\n",
    "\n",
    "$P(Car = 1 | Goat = 2) = \\frac{P(Goat = 2 | Car = 1)}{P(Goat = 2 | Car = 1) + P(Goat = 2 | Car = 3)} = \\frac{\\frac{1}{2}}{\\frac{1}{2} + 1} = \\frac{1}{3}$\n",
    "\n",
    "$P(Car = 3 | Goat = 2) = \\frac{P(Goat = 2 | Car = 3)}{P(Goat = 2 | Car = 1) + P(Goat = 2 | Car = 3)} = \\frac{1}{\\frac{1}{2} + 1} = \\frac{2}{3}$\n",
    "\n",
    "Switching to door 3 makes us twice as likely to win the car\n",
    "\n",
    "(NB: summing for normalisation, prior term cancels out in Bayes' theorem and is not shown)"
   ]
  },
  {
   "cell_type": "code",
   "execution_count": 1,
   "metadata": {
    "ExecuteTime": {
     "end_time": "2020-12-31T06:50:30.095296Z",
     "start_time": "2020-12-31T06:50:30.093207Z"
    }
   },
   "outputs": [],
   "source": [
    "# libraries needed\n",
    "#! pip install pymc3 numba numpy matplotlib"
   ]
  },
  {
   "cell_type": "markdown",
   "metadata": {
    "ExecuteTime": {
     "end_time": "2020-12-30T07:45:23.583202Z",
     "start_time": "2020-12-30T07:45:23.570418Z"
    }
   },
   "source": [
    "### 2. Python standard library"
   ]
  },
  {
   "cell_type": "markdown",
   "metadata": {},
   "source": [
    "Simulating the experiment using Python's built-in libraries is quite straightforward. We use the random module to select between doors with uniform probability and see the effect of switching."
   ]
  },
  {
   "cell_type": "code",
   "execution_count": 2,
   "metadata": {
    "ExecuteTime": {
     "end_time": "2020-12-31T06:50:30.154565Z",
     "start_time": "2020-12-31T06:50:30.097620Z"
    }
   },
   "outputs": [
    {
     "name": "stdout",
     "output_type": "stream",
     "text": [
      "Chances of winning by switching:\t0.67\n",
      "Chances of winning without switching:\t0.34\n"
     ]
    }
   ],
   "source": [
    "import random\n",
    "random.seed(0)\n",
    "# random.choice selects a random element from a sequence with equal probability\n",
    "# i.e. a List of N elements will return each element with 1/N probability\n",
    "\n",
    "# A single game\n",
    "def monty_hall(switch: bool, n_doors: int = 3) -> bool:\n",
    "    # Start with 3 valid doors\n",
    "    doors = list(range(n_doors)) # [0, 1, 2]\n",
    "    \n",
    "    # Pick car door and contestants selection randomly\n",
    "    car_door = random.choice(doors)\n",
    "    selected_door = random.choice(doors)\n",
    "    \n",
    "    # Host opens a door that the contestant hasn't selected and also isn't a winning door\n",
    "    goat_door = random.choice([x for x in doors if x not in {car_door, selected_door}])\n",
    "    doors.remove(goat_door)\n",
    "\n",
    "    # If contestant switches to the remaining door\n",
    "    if switch:\n",
    "        doors.remove(selected_door)\n",
    "        selected_door = doors.pop()\n",
    "\n",
    "    return car_door == selected_door\n",
    "\n",
    "iterations = 10_000\n",
    "print(f\"Chances of winning by switching:\\t{sum([monty_hall(True, 3) for _ in range(iterations)])/iterations:.02f}\")\n",
    "print(f\"Chances of winning without switching:\\t{sum([monty_hall(False, 3) for _ in range(iterations)])/iterations:.02f}\")"
   ]
  },
  {
   "cell_type": "markdown",
   "metadata": {},
   "source": [
    "### 3. PyMC"
   ]
  },
  {
   "cell_type": "markdown",
   "metadata": {},
   "source": [
    "The same model can be specified using PyMC. PyMC is more extensible and can model more complex priors and selection distributions if needed, but this is a vanilla translation of the above simulation."
   ]
  },
  {
   "cell_type": "code",
   "execution_count": 3,
   "metadata": {
    "ExecuteTime": {
     "end_time": "2020-12-31T06:51:08.564461Z",
     "start_time": "2020-12-31T06:50:30.158150Z"
    }
   },
   "outputs": [
    {
     "name": "stderr",
     "output_type": "stream",
     "text": [
      "Multiprocess sampling (4 chains in 4 jobs)\n",
      "CompoundStep\n",
      ">Metropolis: [switch]\n",
      ">Metropolis: [goat]\n",
      ">Metropolis: [selected]\n",
      ">Metropolis: [car]\n"
     ]
    },
    {
     "data": {
      "text/html": [
       "\n",
       "    <div>\n",
       "        <style>\n",
       "            /* Turns off some styling */\n",
       "            progress {\n",
       "                /* gets rid of default border in Firefox and Opera. */\n",
       "                border: none;\n",
       "                /* Needs to be in here for Safari polyfill so background images work as expected. */\n",
       "                background-size: auto;\n",
       "            }\n",
       "            .progress-bar-interrupted, .progress-bar-interrupted::-webkit-progress-bar {\n",
       "                background: #F44336;\n",
       "            }\n",
       "        </style>\n",
       "      <progress value='48000' class='' max='48000' style='width:300px; height:20px; vertical-align: middle;'></progress>\n",
       "      100.00% [48000/48000 00:12<00:00 Sampling 4 chains, 0 divergences]\n",
       "    </div>\n",
       "    "
      ],
      "text/plain": [
       "<IPython.core.display.HTML object>"
      ]
     },
     "metadata": {},
     "output_type": "display_data"
    },
    {
     "name": "stderr",
     "output_type": "stream",
     "text": [
      "Sampling 4 chains for 1_000 tune and 11_000 draw iterations (4_000 + 44_000 draws total) took 28 seconds.\n",
      "The number of effective samples is smaller than 25% for some parameters.\n"
     ]
    },
    {
     "name": "stdout",
     "output_type": "stream",
     "text": [
      "Chances of winning by switching:\t0.66\n",
      "Chances of winning without switching:\t0.34\n"
     ]
    }
   ],
   "source": [
    "import pymc3 as pm\n",
    "from theano import tensor as tt\n",
    "\n",
    "iterations = 10_000\n",
    "n_doors = 3\n",
    "with pm.Model() as model:\n",
    "    # Car behind one of 3 doors with equal probability\n",
    "    car = pm.DiscreteUniform(name=\"car\", lower=0, upper=n_doors-1)\n",
    "    \n",
    "    # Contestant selected one of 3 doors with equal probability\n",
    "    selected = pm.DiscreteUniform(name=\"selected\", lower=0, upper=n_doors-1)\n",
    "    \n",
    "    # Host opens another door to show a goat\n",
    "    # each switch condition corresponds to: 0 if door in (selected, car) else 1\n",
    "    goat = pm.Categorical(name=\"goat\", p=tt.stack([\n",
    "        pm.math.switch(pm.math.or_(pm.math.eq(car, i), pm.math.eq(selected, i)), 0, 1) \n",
    "        for i in range(n_doors)]))\n",
    "    \n",
    "    # Host opens another door to show a goat\n",
    "    # each switch condition corresponds to: 0 if door in (goat, car) else 1\n",
    "    switch = pm.Categorical(name=\"switch\", p=tt.stack([\n",
    "        pm.math.switch(pm.math.or_(pm.math.eq(goat, i), pm.math.eq(selected, i)), 0, 1) \n",
    "        for i in range(n_doors)]))\n",
    "    \n",
    "    step = pm.Metropolis()\n",
    "    trace = pm.sample(iterations + 1000, tune=1000, step=step, return_inferencedata=False)\n",
    "    burned_trace = trace[1000:]\n",
    "    \n",
    "trace_len = len(burned_trace['car'])\n",
    "print(f\"Chances of winning by switching:\\t{sum(burned_trace['switch'] == burned_trace['car'])/trace_len:.02f}\")\n",
    "print(f\"Chances of winning without switching:\\t{sum(burned_trace['selected'] == burned_trace['car'])/trace_len:.02f}\")"
   ]
  },
  {
   "cell_type": "markdown",
   "metadata": {},
   "source": [
    "Graphing out the model also gives a subtle insight into why switching works. Information about the prize is relayed by the host opening the door. The host can only open doors that do not have a car behind it. If we select the correct door on the first try with 1/3 probability, we would end up losing by switching. If we select either of the incorrect doors in the beginning, with a combined 2/3 probability, we would win by switching"
   ]
  },
  {
   "cell_type": "code",
   "execution_count": 4,
   "metadata": {
    "ExecuteTime": {
     "end_time": "2020-12-31T06:51:08.954722Z",
     "start_time": "2020-12-31T06:51:08.567144Z"
    }
   },
   "outputs": [
    {
     "data": {
      "image/svg+xml": [
       "<?xml version=\"1.0\" encoding=\"UTF-8\" standalone=\"no\"?>\n",
       "<!DOCTYPE svg PUBLIC \"-//W3C//DTD SVG 1.1//EN\"\n",
       " \"http://www.w3.org/Graphics/SVG/1.1/DTD/svg11.dtd\">\n",
       "<!-- Generated by graphviz version 2.44.1 (20200629.0846)\n",
       " -->\n",
       "<!-- Pages: 1 -->\n",
       "<svg width=\"334pt\" height=\"305pt\"\n",
       " viewBox=\"0.00 0.00 334.15 304.86\" xmlns=\"http://www.w3.org/2000/svg\" xmlns:xlink=\"http://www.w3.org/1999/xlink\">\n",
       "<g id=\"graph0\" class=\"graph\" transform=\"scale(1 1) rotate(0) translate(4 300.86)\">\n",
       "<polygon fill=\"white\" stroke=\"transparent\" points=\"-4,4 -4,-300.86 330.15,-300.86 330.15,4 -4,4\"/>\n",
       "<!-- selected -->\n",
       "<g id=\"node1\" class=\"node\">\n",
       "<title>selected</title>\n",
       "<ellipse fill=\"none\" stroke=\"black\" cx=\"249.07\" cy=\"-259.38\" rx=\"77.15\" ry=\"37.45\"/>\n",
       "<text text-anchor=\"middle\" x=\"249.07\" y=\"-270.68\" font-family=\"Times,serif\" font-size=\"14.00\">selected</text>\n",
       "<text text-anchor=\"middle\" x=\"249.07\" y=\"-255.68\" font-family=\"Times,serif\" font-size=\"14.00\">~</text>\n",
       "<text text-anchor=\"middle\" x=\"249.07\" y=\"-240.68\" font-family=\"Times,serif\" font-size=\"14.00\">DiscreteUniform</text>\n",
       "</g>\n",
       "<!-- goat -->\n",
       "<g id=\"node2\" class=\"node\">\n",
       "<title>goat</title>\n",
       "<ellipse fill=\"none\" stroke=\"black\" cx=\"165.07\" cy=\"-148.43\" rx=\"55.72\" ry=\"37.45\"/>\n",
       "<text text-anchor=\"middle\" x=\"165.07\" y=\"-159.73\" font-family=\"Times,serif\" font-size=\"14.00\">goat</text>\n",
       "<text text-anchor=\"middle\" x=\"165.07\" y=\"-144.73\" font-family=\"Times,serif\" font-size=\"14.00\">~</text>\n",
       "<text text-anchor=\"middle\" x=\"165.07\" y=\"-129.73\" font-family=\"Times,serif\" font-size=\"14.00\">Categorical</text>\n",
       "</g>\n",
       "<!-- selected&#45;&gt;goat -->\n",
       "<g id=\"edge1\" class=\"edge\">\n",
       "<title>selected&#45;&gt;goat</title>\n",
       "<path fill=\"none\" stroke=\"black\" d=\"M222.5,-223.91C214.22,-213.17 205.01,-201.23 196.44,-190.12\"/>\n",
       "<polygon fill=\"black\" stroke=\"black\" points=\"199.21,-187.98 190.33,-182.19 193.67,-192.25 199.21,-187.98\"/>\n",
       "</g>\n",
       "<!-- switch -->\n",
       "<g id=\"node3\" class=\"node\">\n",
       "<title>switch</title>\n",
       "<ellipse fill=\"none\" stroke=\"black\" cx=\"207.07\" cy=\"-37.48\" rx=\"55.72\" ry=\"37.45\"/>\n",
       "<text text-anchor=\"middle\" x=\"207.07\" y=\"-48.78\" font-family=\"Times,serif\" font-size=\"14.00\">switch</text>\n",
       "<text text-anchor=\"middle\" x=\"207.07\" y=\"-33.78\" font-family=\"Times,serif\" font-size=\"14.00\">~</text>\n",
       "<text text-anchor=\"middle\" x=\"207.07\" y=\"-18.78\" font-family=\"Times,serif\" font-size=\"14.00\">Categorical</text>\n",
       "</g>\n",
       "<!-- selected&#45;&gt;switch -->\n",
       "<g id=\"edge3\" class=\"edge\">\n",
       "<title>selected&#45;&gt;switch</title>\n",
       "<path fill=\"none\" stroke=\"black\" d=\"M246.19,-221.72C243.39,-191.69 238.33,-148.25 230.07,-110.95 228.13,-102.15 225.58,-92.89 222.9,-84.03\"/>\n",
       "<polygon fill=\"black\" stroke=\"black\" points=\"226.16,-82.75 219.83,-74.26 219.48,-84.85 226.16,-82.75\"/>\n",
       "</g>\n",
       "<!-- goat&#45;&gt;switch -->\n",
       "<g id=\"edge4\" class=\"edge\">\n",
       "<title>goat&#45;&gt;switch</title>\n",
       "<path fill=\"none\" stroke=\"black\" d=\"M178.71,-112.06C182.23,-102.92 186.07,-92.97 189.75,-83.42\"/>\n",
       "<polygon fill=\"black\" stroke=\"black\" points=\"193.03,-84.64 193.36,-74.05 186.5,-82.12 193.03,-84.64\"/>\n",
       "</g>\n",
       "<!-- car -->\n",
       "<g id=\"node4\" class=\"node\">\n",
       "<title>car</title>\n",
       "<ellipse fill=\"none\" stroke=\"black\" cx=\"77.07\" cy=\"-259.38\" rx=\"77.15\" ry=\"37.45\"/>\n",
       "<text text-anchor=\"middle\" x=\"77.07\" y=\"-270.68\" font-family=\"Times,serif\" font-size=\"14.00\">car</text>\n",
       "<text text-anchor=\"middle\" x=\"77.07\" y=\"-255.68\" font-family=\"Times,serif\" font-size=\"14.00\">~</text>\n",
       "<text text-anchor=\"middle\" x=\"77.07\" y=\"-240.68\" font-family=\"Times,serif\" font-size=\"14.00\">DiscreteUniform</text>\n",
       "</g>\n",
       "<!-- car&#45;&gt;goat -->\n",
       "<g id=\"edge2\" class=\"edge\">\n",
       "<title>car&#45;&gt;goat</title>\n",
       "<path fill=\"none\" stroke=\"black\" d=\"M104.68,-224.21C113.52,-213.26 123.39,-201.04 132.55,-189.7\"/>\n",
       "<polygon fill=\"black\" stroke=\"black\" points=\"135.51,-191.6 139.07,-181.63 130.06,-187.21 135.51,-191.6\"/>\n",
       "</g>\n",
       "</g>\n",
       "</svg>\n"
      ],
      "text/plain": [
       "<graphviz.dot.Digraph at 0x7fcacf80f070>"
      ]
     },
     "execution_count": 4,
     "metadata": {},
     "output_type": "execute_result"
    }
   ],
   "source": [
    "pm.model_graph.model_to_graphviz(model)"
   ]
  },
  {
   "cell_type": "markdown",
   "metadata": {},
   "source": [
    "### Bonus: Simulating for more than 3 doors"
   ]
  },
  {
   "cell_type": "markdown",
   "metadata": {},
   "source": [
    "In the above simulations, we have seen that with 3 doors, we are twice as likely to win by switching ($\\frac{2}{3}$ vs. $\\frac{1}{3}$). How does this pattern hold with more than 3 doors?"
   ]
  },
  {
   "cell_type": "code",
   "execution_count": 5,
   "metadata": {
    "ExecuteTime": {
     "end_time": "2020-12-31T06:53:07.064268Z",
     "start_time": "2020-12-31T06:51:08.956665Z"
    }
   },
   "outputs": [],
   "source": [
    "from typing import List, NamedTuple, Iterable, Tuple\n",
    "import numpy as np\n",
    "from numba import jit\n",
    "\n",
    "\n",
    "# Faster numba/numpy implementation to allow more iterations\n",
    "@jit(nopython = True, fastmath = True)\n",
    "def monty_hall_nb(n_doors: int = 3) -> Tuple[bool, bool]:\n",
    "    doors = np.arange(0, n_doors)\n",
    "    selected = np.random.choice(doors)\n",
    "    car = np.random.choice(doors)\n",
    "    goat = np.random.choice(doors[(doors != car) & (doors != selected)])\n",
    "    switch = np.random.choice(doors[(doors != goat) & (doors != selected)])\n",
    "    return switch == car, selected == car\n",
    "\n",
    "class Result(NamedTuple):\n",
    "    n_doors: int\n",
    "    iterations: int\n",
    "    switch: int\n",
    "    stay: int\n",
    "\n",
    "def monty_hall_extended(num_doors: Iterable[int], iterations: int) -> List[Result]:\n",
    "    retval = []\n",
    "    for n_doors in num_doors:\n",
    "        res = [monty_hall_nb(n_doors) for _ in range(iterations)]\n",
    "        switch, stay = sum(x[0] for x in res), sum(x[1] for x in res)\n",
    "        retval.append(Result(n_doors, iterations, switch, stay))\n",
    "    return retval\n",
    "\n",
    "# takes a couple of minutes\n",
    "results = monty_hall_extended(range(3, 101), 1_000_000)"
   ]
  },
  {
   "cell_type": "markdown",
   "metadata": {},
   "source": [
    "#### Plotting out the results"
   ]
  },
  {
   "cell_type": "markdown",
   "metadata": {},
   "source": [
    "The advantage significantly reduces with an increasing number of doors and becomes negligible with more than 20 doors. The probability of winning for the two strategies for $N$ doors can be shown as:\n",
    "\n",
    "Stay: $\\frac{1}{N}$\n",
    "\n",
    "Switch: $\\frac{N - 1}{N} \\times \\frac{1}{N-2}$\n",
    "\n",
    "Ratio $\\frac{\\text{Switch}}{\\text{Stay}}$: $\\frac{N-1}{N-2}$\n",
    "\n",
    "As N increases, the ratio converges to 1."
   ]
  },
  {
   "cell_type": "code",
   "execution_count": 6,
   "metadata": {
    "ExecuteTime": {
     "end_time": "2020-12-31T06:53:07.364306Z",
     "start_time": "2020-12-31T06:53:07.066021Z"
    }
   },
   "outputs": [
    {
     "data": {
      "text/plain": [
       "<Figure size 1440x720 with 0 Axes>"
      ]
     },
     "metadata": {},
     "output_type": "display_data"
    },
    {
     "data": {
      "image/png": "[encoded data removed]",
      "text/plain": [
       "<Figure size 1440x720 with 2 Axes>"
      ]
     },
     "metadata": {
      "needs_background": "light"
     },
     "output_type": "display_data"
    }
   ],
   "source": [
    "import matplotlib.pyplot as plt\n",
    "plt.rcParams.update({'font.size': 16})\n",
    "plt.figure(figsize=(20,10))\n",
    "fig, (ax1, ax2) = plt.subplots(2, 1, figsize=(20,10))\n",
    "\n",
    "y_switch = np.array([r.switch/r.iterations for r in results])\n",
    "y_stay = np.array([r.stay/r.iterations for r in results])\n",
    "y_ratio = y_switch/y_stay\n",
    "x = np.array([r.n_doors for r in results])\n",
    "\n",
    "ax1.plot(x, y_ratio)\n",
    "ax2.plot(x, y_switch)\n",
    "ax2.plot(x, y_stay)\n",
    "ax2.set_xlabel('Number of Doors')\n",
    "ax1.set_ylabel('Improvement by Switching')\n",
    "ax2.set_ylabel('Ratio of Wins')\n",
    "ax2.legend(['Switch', 'Stay'])\n",
    "ax1.set_xlim([min(x), max(x)])\n",
    "ax2.set_xlim([min(x), max(x)])\n",
    "ax1.set_xticks([3, 20, 40, 80, 100])\n",
    "ax2.set_xticks([3, 20, 40, 80, 100])\n",
    "plt.show()"
   ]
  },
  {
   "cell_type": "code",
   "execution_count": 7,
   "metadata": {
    "ExecuteTime": {
     "end_time": "2020-12-31T06:53:07.371228Z",
     "start_time": "2020-12-31T06:53:07.367107Z"
    }
   },
   "outputs": [
    {
     "name": "stdout",
     "output_type": "stream",
     "text": [
      "matplotlib version: 3.3.3\n",
      "Numba version: 0.52.0\n",
      "NumPy version: 1.18.4\n",
      "PyMC3 version: 3.10.0\n",
      "Python version: 3.8.2\n"
     ]
    }
   ],
   "source": [
    "import matplotlib\n",
    "import numba\n",
    "import sys\n",
    "print(f\"matplotlib version: {matplotlib.__version__}\")\n",
    "print(f\"Numba version: {numba.__version__}\")\n",
    "print(f\"NumPy version: {np.__version__}\")\n",
    "print(f\"PyMC3 version: {pm.__version__}\")\n",
    "print(f\"Python version: {sys.version.split(' ')[0]}\")"
   ]
  }
 ],
 "metadata": {
  "kernelspec": {
   "display_name": "Python 3.8.2 64-bit",
   "language": "python",
   "name": "python38264bita9f0f2c20ea645e0b4e03f7212bd6259"
  },
  "language_info": {
   "codemirror_mode": {
    "name": "ipython",
    "version": 3
   },
   "file_extension": ".py",
   "mimetype": "text/x-python",
   "name": "python",
   "nbconvert_exporter": "python",
   "pygments_lexer": "ipython3",
   "version": "3.8.2"
  },
  "toc": {
   "base_numbering": 1,
   "nav_menu": {},
   "number_sections": true,
   "sideBar": true,
   "skip_h1_title": false,
   "title_cell": "Table of Contents",
   "title_sidebar": "Contents",
   "toc_cell": false,
   "toc_position": {},
   "toc_section_display": true,
   "toc_window_display": false
  }
 },
 "nbformat": 4,
 "nbformat_minor": 4
}
