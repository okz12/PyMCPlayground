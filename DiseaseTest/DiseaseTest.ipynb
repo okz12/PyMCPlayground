{
 "cells": [
  {
   "cell_type": "markdown",
   "metadata": {},
   "source": [
    "### 2.2.1 Example: testing for COVID-19 from Kevin Murphy's Probabilistic Machine Learning\n",
    "\n",
    "Source: https://probml.github.io/pml-book/book1.html\n",
    "\n",
    "You get tested for COVID-19 with the following parameters:\n",
    "\n",
    "- Prevalence of Disease in Area: P(C = 1) = 0.1\n",
    "- Sensitivity / True Positive Rate: P(T = 1 | C = 1)  = 87.5%\n",
    "- Specificity / True Negative Rate: P(T = 0 | C = 0) = 97.5%\n",
    "\n",
    "where C = 1 represents a COVID infection and T = 1 represents a positive test result. \n",
    "\n",
    "### Analytical Solution\n",
    "\n",
    "What is the probability of being infected with COVID given a positive test result?\n",
    "\n",
    "$P(C = 1 | T = 1) = \\frac{P(T = 1 | C = 1) \\times P(C = 1)}{P(T = 1 | C = 1) \\times P(C = 1) + P(T = 1 | C = 0) \\times P(C = 0)} = \\frac{TPR \\times prior}{TPR \\times prior + FPR \\times (1 - prior)} = \\frac{0.875 \\times 0.1}{0.875 \\times 0.1 + 0.125 \\times 0.9} = 0.795$\n",
    "\n",
    "What is the probability of being infected with COVID given a negative test result?\n",
    "\n",
    "\n",
    "$P(C = 1 | T = 0) = \\frac{P(T = 0 | C = 1) \\times P(C = 1)}{P(T = 0 | C = 1) \\times P(C = 1) + P(T = 0 | C = 0) \\times P(C = 0)} = \\frac{FNR \\times prior}{FNR \\times prior + TNR \\times (1 - prior)} = \\frac{0.025 \\times 0.1}{0.025 \\times 0.1 + 0.975 \\times 0.1} = 0.014$\n",
    "\n",
    "### PyMC Simulation"
   ]
  },
  {
   "cell_type": "code",
   "execution_count": 1,
   "metadata": {
    "ExecuteTime": {
     "end_time": "2021-01-01T17:19:38.559460Z",
     "start_time": "2021-01-01T17:17:12.678821Z"
    }
   },
   "outputs": [
    {
     "name": "stderr",
     "output_type": "stream",
     "text": [
      "Multiprocess sampling (4 chains in 4 jobs)\n",
      "BinaryGibbsMetropolis: [have_covid]\n"
     ]
    },
    {
     "data": {
      "text/html": [
       "\n",
       "    <div>\n",
       "        <style>\n",
       "            /* Turns off some styling */\n",
       "            progress {\n",
       "                /* gets rid of default border in Firefox and Opera. */\n",
       "                border: none;\n",
       "                /* Needs to be in here for Safari polyfill so background images work as expected. */\n",
       "                background-size: auto;\n",
       "            }\n",
       "            .progress-bar-interrupted, .progress-bar-interrupted::-webkit-progress-bar {\n",
       "                background: #F44336;\n",
       "            }\n",
       "        </style>\n",
       "      <progress value='404000' class='' max='404000' style='width:300px; height:20px; vertical-align: middle;'></progress>\n",
       "      100.00% [404000/404000 00:30<00:00 Sampling 4 chains, 0 divergences]\n",
       "    </div>\n",
       "    "
      ],
      "text/plain": [
       "<IPython.core.display.HTML object>"
      ]
     },
     "metadata": {},
     "output_type": "display_data"
    },
    {
     "name": "stderr",
     "output_type": "stream",
     "text": [
      "Sampling 4 chains for 1_000 tune and 100_000 draw iterations (4_000 + 400_000 draws total) took 42 seconds.\n",
      "Multiprocess sampling (4 chains in 4 jobs)\n",
      "BinaryGibbsMetropolis: [have_covid]\n"
     ]
    },
    {
     "data": {
      "text/html": [
       "\n",
       "    <div>\n",
       "        <style>\n",
       "            /* Turns off some styling */\n",
       "            progress {\n",
       "                /* gets rid of default border in Firefox and Opera. */\n",
       "                border: none;\n",
       "                /* Needs to be in here for Safari polyfill so background images work as expected. */\n",
       "                background-size: auto;\n",
       "            }\n",
       "            .progress-bar-interrupted, .progress-bar-interrupted::-webkit-progress-bar {\n",
       "                background: #F44336;\n",
       "            }\n",
       "        </style>\n",
       "      <progress value='404000' class='' max='404000' style='width:300px; height:20px; vertical-align: middle;'></progress>\n",
       "      100.00% [404000/404000 00:33<00:00 Sampling 4 chains, 0 divergences]\n",
       "    </div>\n",
       "    "
      ],
      "text/plain": [
       "<IPython.core.display.HTML object>"
      ]
     },
     "metadata": {},
     "output_type": "display_data"
    },
    {
     "name": "stderr",
     "output_type": "stream",
     "text": [
      "Sampling 4 chains for 1_000 tune and 100_000 draw iterations (4_000 + 400_000 draws total) took 49 seconds.\n"
     ]
    },
    {
     "name": "stdout",
     "output_type": "stream",
     "text": [
      "Probability of Infection if Tested Positive:\t0.7952\n",
      "Probability of Infection if Tested Negative:\t0.0141\n"
     ]
    }
   ],
   "source": [
    "import pymc3 as pm\n",
    "\n",
    "def covid_model(observed: int, prevalence: float, sensitivity: float, specificity: float, iterations: int) -> float:\n",
    "\n",
    "    with pm.Model() as model:\n",
    "        # prevalence of disease / prior\n",
    "        have_covid = pm.Bernoulli('have_covid', prevalence)\n",
    "        \n",
    "        # probability of testing positive = COVID + TPR + (1 - COVID) * FPR\n",
    "        test_positive_prob = have_covid * sensitivity + (1 - have_covid) * (1 - specificity)\n",
    "        \n",
    "        # test result observed positive or negative\n",
    "        test_positive = pm.Bernoulli('test_positive', test_positive_prob, observed = observed)\n",
    "        \n",
    "        disease_trace = pm.sample(iterations, return_inferencedata=False)\n",
    "    return disease_trace['have_covid'].mean()\n",
    "\n",
    "covid_when_pos = covid_model(observed = 1, prevalence = 0.1, sensitivity = 0.875, specificity = 0.975, iterations = 100_000)\n",
    "covid_when_neg = covid_model(observed = 0, prevalence = 0.1, sensitivity = 0.875, specificity = 0.975, iterations = 100_000)\n",
    "\n",
    "print(f\"Probability of Infection if Tested Positive:\\t{covid_when_pos:.04f}\\n\"\\\n",
    "      f\"Probability of Infection if Tested Negative:\\t{covid_when_neg:.04f}\")"
   ]
  },
  {
   "cell_type": "code",
   "execution_count": 2,
   "metadata": {
    "ExecuteTime": {
     "end_time": "2021-01-01T17:19:38.565497Z",
     "start_time": "2021-01-01T17:19:38.562146Z"
    }
   },
   "outputs": [
    {
     "name": "stdout",
     "output_type": "stream",
     "text": [
      "PyMC3 version: 3.10.0\n",
      "Python version: 3.8.2\n"
     ]
    }
   ],
   "source": [
    "import sys\n",
    "print(f\"PyMC3 version: {pm.__version__}\")\n",
    "print(f\"Python version: {sys.version.split(' ')[0]}\")"
   ]
  }
 ],
 "metadata": {
  "kernelspec": {
   "display_name": "Python 3.8.2 64-bit",
   "language": "python",
   "name": "python38264bita9f0f2c20ea645e0b4e03f7212bd6259"
  },
  "language_info": {
   "codemirror_mode": {
    "name": "ipython",
    "version": 3
   },
   "file_extension": ".py",
   "mimetype": "text/x-python",
   "name": "python",
   "nbconvert_exporter": "python",
   "pygments_lexer": "ipython3",
   "version": "3.8.2"
  },
  "toc": {
   "base_numbering": 1,
   "nav_menu": {},
   "number_sections": true,
   "sideBar": true,
   "skip_h1_title": false,
   "title_cell": "Table of Contents",
   "title_sidebar": "Contents",
   "toc_cell": false,
   "toc_position": {},
   "toc_section_display": true,
   "toc_window_display": false
  }
 },
 "nbformat": 4,
 "nbformat_minor": 4
}
